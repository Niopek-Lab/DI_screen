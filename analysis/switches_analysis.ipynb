{
 "cells": [
  {
   "attachments": {},
   "cell_type": "markdown",
   "metadata": {},
   "source": [
    "# Comparison between the enrichment scores and experimental evaluation of individual variants"
   ]
  },
  {
   "cell_type": "code",
   "execution_count": 1,
   "metadata": {},
   "outputs": [],
   "source": [
    "import numpy as np\n",
    "import pandas as pd\n",
    "import matplotlib.pyplot as plt\n",
    "import seaborn as sns\n",
    "from matplotlib.ticker import FormatStrFormatter\n",
    "import scipy\n",
    "\n",
    "plt.style.use('/work/projects/project01640/jm/domain_insertion/dipSeq/batch_scripts_JMA/scripts_paper/utils/domain_ins.mplstyle')\n",
    "plt.rcParams['svg.fonttype'] = 'none'"
   ]
  },
  {
   "attachments": {},
   "cell_type": "markdown",
   "metadata": {},
   "source": [
    "### Import data"
   ]
  },
  {
   "cell_type": "code",
   "execution_count": 2,
   "metadata": {},
   "outputs": [],
   "source": [
    "base = '/work/projects/project01640/jm/domain_insertion/DI_screen'\n",
    "fig_folder = f'{base}/analysis/figures'\n",
    "data = pd.read_csv(f'{base}/experimental_rawdata/Wetlab_validation_switches.csv', delimiter=';')\n",
    "del data['Unnamed: 3']"
   ]
  },
  {
   "cell_type": "code",
   "execution_count": 3,
   "metadata": {},
   "outputs": [
    {
     "data": {
      "text/html": [
       "<div>\n",
       "<style scoped>\n",
       "    .dataframe tbody tr th:only-of-type {\n",
       "        vertical-align: middle;\n",
       "    }\n",
       "\n",
       "    .dataframe tbody tr th {\n",
       "        vertical-align: top;\n",
       "    }\n",
       "\n",
       "    .dataframe thead th {\n",
       "        text-align: right;\n",
       "    }\n",
       "</style>\n",
       "<table border=\"1\" class=\"dataframe\">\n",
       "  <thead>\n",
       "    <tr style=\"text-align: right;\">\n",
       "      <th></th>\n",
       "      <th>name</th>\n",
       "      <th>fluorescence</th>\n",
       "      <th>enrichment</th>\n",
       "      <th>protein</th>\n",
       "      <th>position</th>\n",
       "      <th>insert</th>\n",
       "      <th>state</th>\n",
       "    </tr>\n",
       "  </thead>\n",
       "  <tbody>\n",
       "    <tr>\n",
       "      <th>0</th>\n",
       "      <td>AraC_E3_PDZ</td>\n",
       "      <td>45670.188740</td>\n",
       "      <td>2.193843</td>\n",
       "      <td>AraC</td>\n",
       "      <td>E3</td>\n",
       "      <td>PDZ</td>\n",
       "      <td>1</td>\n",
       "    </tr>\n",
       "    <tr>\n",
       "      <th>1</th>\n",
       "      <td>AraC_N16_PDZ</td>\n",
       "      <td>1247.577193</td>\n",
       "      <td>-4.411219</td>\n",
       "      <td>AraC</td>\n",
       "      <td>N16</td>\n",
       "      <td>PDZ</td>\n",
       "      <td>0</td>\n",
       "    </tr>\n",
       "    <tr>\n",
       "      <th>2</th>\n",
       "      <td>AraC_L23_PDZ</td>\n",
       "      <td>44.311083</td>\n",
       "      <td>-6.962230</td>\n",
       "      <td>AraC</td>\n",
       "      <td>L23</td>\n",
       "      <td>PDZ</td>\n",
       "      <td>0</td>\n",
       "    </tr>\n",
       "    <tr>\n",
       "      <th>3</th>\n",
       "      <td>AraC_T50_PDZ</td>\n",
       "      <td>41.162518</td>\n",
       "      <td>-10.000000</td>\n",
       "      <td>AraC</td>\n",
       "      <td>T50</td>\n",
       "      <td>PDZ</td>\n",
       "      <td>0</td>\n",
       "    </tr>\n",
       "    <tr>\n",
       "      <th>4</th>\n",
       "      <td>AraC_Q60_PDZ</td>\n",
       "      <td>26447.334250</td>\n",
       "      <td>2.204967</td>\n",
       "      <td>AraC</td>\n",
       "      <td>Q60</td>\n",
       "      <td>PDZ</td>\n",
       "      <td>1</td>\n",
       "    </tr>\n",
       "    <tr>\n",
       "      <th>...</th>\n",
       "      <td>...</td>\n",
       "      <td>...</td>\n",
       "      <td>...</td>\n",
       "      <td>...</td>\n",
       "      <td>...</td>\n",
       "      <td>...</td>\n",
       "      <td>...</td>\n",
       "    </tr>\n",
       "    <tr>\n",
       "      <th>111</th>\n",
       "      <td>TVMV_D11_LOV</td>\n",
       "      <td>3579.017001</td>\n",
       "      <td>3.583506</td>\n",
       "      <td>TVMV</td>\n",
       "      <td>D11</td>\n",
       "      <td>LOV</td>\n",
       "      <td>1</td>\n",
       "    </tr>\n",
       "    <tr>\n",
       "      <th>112</th>\n",
       "      <td>TVMV_S121_LOV</td>\n",
       "      <td>2353.099454</td>\n",
       "      <td>-1.204114</td>\n",
       "      <td>TVMV</td>\n",
       "      <td>S121</td>\n",
       "      <td>LOV</td>\n",
       "      <td>0</td>\n",
       "    </tr>\n",
       "    <tr>\n",
       "      <th>113</th>\n",
       "      <td>TVMV_F204_LOV</td>\n",
       "      <td>1306.033799</td>\n",
       "      <td>-1.024143</td>\n",
       "      <td>TVMV</td>\n",
       "      <td>F204</td>\n",
       "      <td>LOV</td>\n",
       "      <td>0</td>\n",
       "    </tr>\n",
       "    <tr>\n",
       "      <th>114</th>\n",
       "      <td>TVMV_G37_LOV</td>\n",
       "      <td>1270.438706</td>\n",
       "      <td>-1.710079</td>\n",
       "      <td>TVMV</td>\n",
       "      <td>G37</td>\n",
       "      <td>LOV</td>\n",
       "      <td>0</td>\n",
       "    </tr>\n",
       "    <tr>\n",
       "      <th>115</th>\n",
       "      <td>TVMV_D193_LOV</td>\n",
       "      <td>1113.912707</td>\n",
       "      <td>-1.740350</td>\n",
       "      <td>TVMV</td>\n",
       "      <td>D193</td>\n",
       "      <td>LOV</td>\n",
       "      <td>0</td>\n",
       "    </tr>\n",
       "  </tbody>\n",
       "</table>\n",
       "<p>114 rows × 7 columns</p>\n",
       "</div>"
      ],
      "text/plain": [
       "              name  fluorescence  enrichment protein position insert  state\n",
       "0      AraC_E3_PDZ  45670.188740    2.193843    AraC       E3    PDZ      1\n",
       "1     AraC_N16_PDZ   1247.577193   -4.411219    AraC      N16    PDZ      0\n",
       "2     AraC_L23_PDZ     44.311083   -6.962230    AraC      L23    PDZ      0\n",
       "3     AraC_T50_PDZ     41.162518  -10.000000    AraC      T50    PDZ      0\n",
       "4     AraC_Q60_PDZ  26447.334250    2.204967    AraC      Q60    PDZ      1\n",
       "..             ...           ...         ...     ...      ...    ...    ...\n",
       "111   TVMV_D11_LOV   3579.017001    3.583506    TVMV      D11    LOV      1\n",
       "112  TVMV_S121_LOV   2353.099454   -1.204114    TVMV     S121    LOV      0\n",
       "113  TVMV_F204_LOV   1306.033799   -1.024143    TVMV     F204    LOV      0\n",
       "114   TVMV_G37_LOV   1270.438706   -1.710079    TVMV      G37    LOV      0\n",
       "115  TVMV_D193_LOV   1113.912707   -1.740350    TVMV     D193    LOV      0\n",
       "\n",
       "[114 rows x 7 columns]"
      ]
     },
     "execution_count": 3,
     "metadata": {},
     "output_type": "execute_result"
    }
   ],
   "source": [
    "data[['protein', 'position', 'insert']] = data['name'].str.split('_', expand=True)\n",
    "data['state'] = np.where(data['enrichment'] > 0, 1, 0)\n",
    "data.dropna(inplace=True)\n",
    "data"
   ]
  },
  {
   "cell_type": "code",
   "execution_count": 5,
   "metadata": {},
   "outputs": [
    {
     "name": "stdout",
     "output_type": "stream",
     "text": [
      "0.00637730142168832\n",
      "3.073355530241744e-05\n",
      "0.044444444444444446\n",
      "0.2\n",
      "0.006993006993006993\n",
      "0.2\n"
     ]
    },
    {
     "data": {
      "image/png": "[encoded data removed]",
      "text/plain": [
       "<Figure size 180x288 with 1 Axes>"
      ]
     },
     "metadata": {
      "needs_background": "light"
     },
     "output_type": "display_data"
    },
    {
     "data": {
      "image/png": "[encoded data removed]",
      "text/plain": [
       "<Figure size 180x288 with 1 Axes>"
      ]
     },
     "metadata": {
      "needs_background": "light"
     },
     "output_type": "display_data"
    },
    {
     "data": {
      "image/png": "[encoded data removed]",
      "text/plain": [
       "<Figure size 180x288 with 1 Axes>"
      ]
     },
     "metadata": {
      "needs_background": "light"
     },
     "output_type": "display_data"
    },
    {
     "data": {
      "image/png": "[encoded data removed]",
      "text/plain": [
       "<Figure size 180x288 with 1 Axes>"
      ]
     },
     "metadata": {
      "needs_background": "light"
     },
     "output_type": "display_data"
    },
    {
     "data": {
      "image/png": "[encoded data removed]",
      "text/plain": [
       "<Figure size 180x288 with 1 Axes>"
      ]
     },
     "metadata": {
      "needs_background": "light"
     },
     "output_type": "display_data"
    },
    {
     "data": {
      "image/png": "[encoded data removed]",
      "text/plain": [
       "<Figure size 180x288 with 1 Axes>"
      ]
     },
     "metadata": {
      "needs_background": "light"
     },
     "output_type": "display_data"
    }
   ],
   "source": [
    "datasets = [['AraC', 'PDZ'], ['AraC', 'LOV'], ['AraC', 'ERD'], ['AraC', 'UNI'], ['AraC', 'YFP'], ['TVMV', 'PDZ'], ['Flp', 'PDZ']]\n",
    "\n",
    "for combi in datasets:\n",
    "    try:\n",
    "        current_data = data[(data['protein'] == combi[0]) & (data['insert'] == combi[1])]\n",
    "        s, pvalue = scipy.stats.mannwhitneyu(current_data[current_data[\"state\"] == 0]['fluorescence'], current_data[current_data[\"state\"] == 1]['fluorescence'])\n",
    "        print(pvalue)\n",
    "        plt.figure(figsize=(2.5,4))\n",
    "        ax = sns.boxplot(data=current_data, x='state', y='fluorescence', fliersize=0, linewidth=1.5, whiskerprops={'color':'grey'}, \n",
    "        capprops={'color':'grey'}, boxprops={'color':'white', 'linewidth':1.5, 'edgecolor':'grey'}, medianprops={'color':'#E60234'})\n",
    "        ax = sns.stripplot(data=current_data, x='state', y='fluorescence', alpha=1, linewidth=0, color='black')\n",
    "        sns.despine()\n",
    "        ax.set_yscale('log')\n",
    "        plt.title(f'{combi[0]}-{combi[1]}')\n",
    "        plt.ylabel('RFP/OD600 [a.u.]')\n",
    "        plt.xticks([0,1], ['Depleted', 'Enriched'])\n",
    "        if combi[0] == 'TVMV':\n",
    "            ax.yaxis.set_minor_formatter(FormatStrFormatter(\"%.1f\"))\n",
    "        plt.xlabel(\"\")\n",
    "        plt.savefig(f\"{fig_folder}/{combi[0]}{combi[1]}_wetlab.svg\")\n",
    "\n",
    "    except:\n",
    "        pass"
   ]
  }
 ],
 "metadata": {
  "interpreter": {
   "hash": "039b150e2a501b43cb42c0bb6f96961eb02ac0d168d7989199fe3219f1545794"
  },
  "kernelspec": {
   "display_name": "Python 3.7.12 ('dipseq')",
   "language": "python",
   "name": "python3"
  },
  "language_info": {
   "codemirror_mode": {
    "name": "ipython",
    "version": 3
   },
   "file_extension": ".py",
   "mimetype": "text/x-python",
   "name": "python",
   "nbconvert_exporter": "python",
   "pygments_lexer": "ipython3",
   "version": "3.7.12"
  },
  "orig_nbformat": 4
 },
 "nbformat": 4,
 "nbformat_minor": 2
}
